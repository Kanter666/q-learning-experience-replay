{
 "cells": [
  {
   "cell_type": "markdown",
   "metadata": {
    "collapsed": true
   },
   "source": [
    "# Experience Replay\n",
    "\n",
    "In this project we study the influence of experience replay to improve Q-Learning.\n",
    "We study the following experience replay techniques,\n",
    "- Uniform ER\n",
    "- Prioritized ER\n",
    "- Hindsight ER\n",
    "- Combined ER\n",
    "\n",
    "Our experiements are limited to a subset of the Open-AI Gym's Classic Control environments,\n",
    "- Cart Pole\n",
    "- Mountain Car\n",
    "- Acrobot\n",
    "\n",
    "Using these ER methods for Q-Learning in the Gym environments, we measure the influence of i.i.d. and TD-error to quantiatively compare the performances.\n",
    "\n",
    "Our hypothesis is that the effect of i.i.d. has a greater influence in the performance in comparision to the TD-error."
   ]
  },
  {
   "cell_type": "markdown",
   "metadata": {},
   "source": [
    "### Setup\n",
    "\n",
    "In this section we load the required libraries to implement Q-Learning and run the environments of Open-AI Gym."
   ]
  },
  {
   "cell_type": "code",
   "execution_count": 1,
   "metadata": {
    "collapsed": true
   },
   "outputs": [],
   "source": [
    "%matplotlib inline\n",
    "import os\n",
    "import sys\n",
    "\n",
    "import random\n",
    "import numpy as np\n",
    "import matplotlib.pyplot as plt\n",
    "from collections import defaultdict\n",
    "\n",
    "import torch\n",
    "from torch import nn, optim\n",
    "import torch.nn.functional as F\n",
    "\n",
    "import gym\n",
    "gym.logger.set_level(40)\n",
    "\n",
    "from tqdm import tqdm as _tqdm\n",
    "\n",
    "def tqdm(*args, **kwargs):\n",
    "    return _tqdm(*args, **kwargs, mininterval=1)\n",
    "\n",
    "assert sys.version_info[:3] >= (3, 6, 0), \"Make sure you have Python 3.6 installed!\""
   ]
  },
  {
   "cell_type": "markdown",
   "metadata": {},
   "source": [
    "## Q-Learning\n",
    "\n",
    "Here, we define a Neural Network for the Q function. The forward pass accepts the observation state and outputs the action values."
   ]
  },
  {
   "cell_type": "code",
   "execution_count": 2,
   "metadata": {
    "collapsed": true
   },
   "outputs": [],
   "source": [
    "class QNetwork(nn.Module):\n",
    "    def __init__(self, input_dim=4, num_hidden=128, output_dim=2):\n",
    "        nn.Module.__init__(self)\n",
    "        self.l1 = nn.Linear(input_dim, num_hidden)\n",
    "        self.l2 = nn.Linear(num_hidden, output_dim)\n",
    "        self.relu = nn.ReLU()\n",
    "\n",
    "    def forward(self, x):\n",
    "        return self.l2(self.relu(self.l1(x)))"
   ]
  },
  {
   "cell_type": "code",
   "execution_count": 3,
   "metadata": {
    "collapsed": true
   },
   "outputs": [],
   "source": [
    "# Let's instantiate and test if it works\n",
    "input_dim = 4\n",
    "num_hidden = 128\n",
    "output_dim = 2\n",
    "torch.manual_seed(1234)\n",
    "model = QNetwork(input_dim, num_hidden, output_dim)\n",
    "\n",
    "torch.manual_seed(1234)\n",
    "test_model = nn.Sequential(\n",
    "    nn.Linear(input_dim, num_hidden), \n",
    "    nn.ReLU(), \n",
    "    nn.Linear(num_hidden, output_dim)\n",
    ")\n",
    "\n",
    "x = torch.rand(10, 4)\n",
    "\n",
    "# at this point we do not need backpropagation\n",
    "with torch.no_grad():\n",
    "    assert np.allclose(model(x).numpy(), test_model(x).numpy())"
   ]
  },
  {
   "cell_type": "markdown",
   "metadata": {},
   "source": [
    "Some useful functions for training,"
   ]
  },
  {
   "cell_type": "code",
   "execution_count": 4,
   "metadata": {
    "collapsed": true
   },
   "outputs": [],
   "source": [
    "def get_epsilon(it):\n",
    "    if it == 0:\n",
    "        return 1\n",
    "    return np.maximum(1 - it/1000, 0.05)\n",
    "\n",
    "def select_action(model, state, epsilon):\n",
    "    with torch.no_grad():\n",
    "        actionProbs = model(torch.Tensor(state)).numpy()\n",
    "    action = np.random.choice(len(actionProbs), 1) if np.random.rand() < epsilon else np.argmax(actionProbs)\n",
    "    return int(action.squeeze())\n",
    "\n",
    "def copy_model(source_model, target_model):\n",
    "    target_model.load_state_dict(source_model.state_dict())\n",
    "\n",
    "def append_sample(transition, model, target_model, discount_factor, memory):\n",
    "    state, action, reward, next_state, done = transition\n",
    "    target = model(torch.FloatTensor(state)).data\n",
    "    old_val = target[0][action].item()\n",
    "    target_val = target_model(torch.FloatTensor(next_state)).data\n",
    "    if done:\n",
    "        target[0][action] = reward\n",
    "    else:\n",
    "        target[0][action] = reward + discount_factor * torch.max(target_val)\n",
    "    new_val = target[0][action].item()\n",
    "    error = abs(old_val - new_val)\n",
    "    transition = (state, action, reward, next_state, done)\n",
    "    memory.push(transition, error)\n",
    "    \n",
    "    \n",
    "def correlation_count(state, threshold = 0.8):\n",
    "    \n",
    "    cov=np.cov(state)\n",
    "    corrcoeff = cov.copy()\n",
    "    n_samples = cov.shape[0]\n",
    "    for i in range(n_samples):\n",
    "        corrcoeff[i,:]=corrcoeff[i,:]/np.sqrt(cov[i,i])\n",
    "    for j in range(n_samples):\n",
    "        corrcoeff[:,j]=corrcoeff[:,j]/np.sqrt(cov[j,j])\n",
    "    \n",
    "    return (np.sum(np.abs(corrcoeff)>threshold) - n_samples) / 2"
   ]
  },
  {
   "cell_type": "code",
   "execution_count": 5,
   "metadata": {
    "collapsed": true
   },
   "outputs": [],
   "source": [
    "def train(memory, model, target_model, batch_size, action_size, optimizer, discount_factor):\n",
    "\n",
    "    if len(memory) < batch_size:\n",
    "        return None, None, None #To match length of output\n",
    "\n",
    "    transition_and_error, idxs, is_weights = memory.sample(batch_size)\n",
    "    \n",
    "    #Separate mini-batch into transition and TD error\n",
    "    mini_batch, sampled_TD_error = zip(*transition_and_error)    \n",
    "    sampled_TD_error = np.asarray(sampled_TD_error)\n",
    "    \n",
    "    #Set up data for training\n",
    "    mini_batch = np.array(mini_batch).transpose()\n",
    "    states = np.vstack(mini_batch[0])\n",
    "    actions = list(mini_batch[1])\n",
    "    rewards = list(mini_batch[2])\n",
    "    next_states = np.vstack(mini_batch[3])\n",
    "    dones = mini_batch[4]\n",
    "\n",
    "    #Collect stats\n",
    "    error_stats = (sampled_TD_error.mean(), np.median(sampled_TD_error), sampled_TD_error.max(), sampled_TD_error.std())\n",
    "    iid_stats = correlation_count(states)\n",
    "    \n",
    "    # bool to binary\n",
    "    dones = dones.astype(int)\n",
    "\n",
    "    # Q function of current state\n",
    "    states = torch.Tensor(states)\n",
    "    pred = model(states)\n",
    "\n",
    "    # one-hot encoding\n",
    "    a = torch.LongTensor(actions).view(-1, 1)\n",
    "\n",
    "    one_hot_action = torch.zeros(batch_size, action_size)\n",
    "    one_hot_action.scatter_(1, a, 1)\n",
    "\n",
    "    pred = torch.sum(pred.mul(torch.tensor(one_hot_action)), dim = 1)\n",
    "\n",
    "    # Q function of next state\n",
    "    next_states = torch.Tensor(next_states)\n",
    "    next_pred = target_model(next_states).data\n",
    "\n",
    "    rewards = torch.FloatTensor(rewards)\n",
    "    dones = torch.FloatTensor(dones)\n",
    "\n",
    "    # Q Learning: get maximum Q value at s' from target model\n",
    "    target = rewards + (1 - dones) * discount_factor * next_pred.max(1)[0]\n",
    "    target = torch.autograd.Variable(target)\n",
    "\n",
    "    errors = torch.abs(pred - target).data.numpy()\n",
    "    \n",
    "    # update priority\n",
    "    if isinstance(memory, PrioritizedMemory):\n",
    "        for i in range(batch_size):\n",
    "            idx = idxs[i]\n",
    "            memory.update(idx, errors[i])\n",
    "\n",
    "    optimizer.zero_grad()\n",
    "\n",
    "    # MSE Loss function\n",
    "    loss = F.mse_loss(pred, target)\n",
    "    loss.backward()\n",
    "\n",
    "    # and train\n",
    "    optimizer.step()\n",
    "    \n",
    "    return loss.item(), error_stats, iid_stats"
   ]
  },
  {
   "cell_type": "code",
   "execution_count": 6,
   "metadata": {
    "collapsed": true
   },
   "outputs": [],
   "source": [
    "def run_episodes(model, target_model, memory, env, num_episodes, batch_size, discount_factor, learn_rate):\n",
    "    optimizer = optim.Adam(model.parameters(), learn_rate)\n",
    "    \n",
    "    #initialize output\n",
    "    results_output = {}\n",
    "    results_output['durations'] = np.zeros(num_episodes)\n",
    "    results_output['mean_TD_error'] = np.zeros(num_episodes)\n",
    "    results_output['median_TD_error'] = np.zeros(num_episodes)\n",
    "    results_output['max_TD_error'] = np.zeros(num_episodes)\n",
    "    results_output['std_TD_error'] = np.zeros(num_episodes)\n",
    "    results_output['correlation_count'] = np.zeros(num_episodes)\n",
    "    \n",
    "    iteration = 0\n",
    "    \n",
    "    state_size = env.observation_space.shape[0]\n",
    "    action_size = env.action_space.n\n",
    "\n",
    "    scores = []\n",
    "\n",
    "    for episode in tqdm(range(num_episodes)):\n",
    "        done = False\n",
    "        score = 0\n",
    "        \n",
    "        mean_TD_error = []\n",
    "        median_TD_error = []\n",
    "        max_TD_error = []\n",
    "        std_TD_error = []\n",
    "        correlation_count = []\n",
    "        \n",
    "        state = env.reset()\n",
    "        state = np.reshape(state, [1, state_size])\n",
    "\n",
    "        while not done:\n",
    "            action = select_action(model, state, get_epsilon(iteration))\n",
    "\n",
    "            next_state, reward, done, info = env.step(action)\n",
    "            next_state = np.reshape(next_state, [1, state_size])\n",
    "            \n",
    "            # if an action make the episode end, then gives penalty of -10\n",
    "            reward = reward if not done or score == 499 else -10\n",
    "\n",
    "            transition = (state, action, reward, next_state, done)\n",
    "    \n",
    "            append_sample(transition, model, target_model, discount_factor, memory)\n",
    "    \n",
    "            # Train\n",
    "            loss, error_stats, iid_stats = train(memory, model, target_model, batch_size, action_size, optimizer, discount_factor)\n",
    "            \n",
    "            # Update\n",
    "            score += reward\n",
    "            state = next_state\n",
    "            iteration += 1\n",
    "            \n",
    "            # Append stats\n",
    "            if error_stats != None:\n",
    "                results_output['durations'][episode] += 1\n",
    "                mean_TD_error.append(error_stats[0])\n",
    "                median_TD_error.append(error_stats[1])\n",
    "                max_TD_error.append(error_stats[2])\n",
    "                std_TD_error.append(error_stats[3])\n",
    "                correlation_count.append(iid_stats)\n",
    "\n",
    "            if done:\n",
    "                # every episode update the target model to be same with model\n",
    "                copy_model(model, target_model)\n",
    "\n",
    "                # every episode, plot the play time\n",
    "                score = score if score == 500 else score + 10\n",
    "                scores.append(score)\n",
    "         \n",
    "        #Average stats per episode\n",
    "        if len(mean_TD_error) > 0:\n",
    "            results_output['mean_TD_error'][episode] = np.array(mean_TD_error).mean()\n",
    "            results_output['median_TD_error'][episode] = np.array(median_TD_error).mean()\n",
    "            results_output['max_TD_error'][episode] = np.array(max_TD_error).mean()\n",
    "            results_output['std_TD_error'][episode] = np.array(std_TD_error).mean()\n",
    "            results_output['correlation_count'][episode] = np.array(correlation_count).mean()\n",
    "                \n",
    "    return results_output"
   ]
  },
  {
   "cell_type": "markdown",
   "metadata": {},
   "source": [
    "## Environment\n",
    "\n",
    "We load the necessary Gym environments required for our experiments."
   ]
  },
  {
   "cell_type": "code",
   "execution_count": 7,
   "metadata": {},
   "outputs": [
    {
     "name": "stdout",
     "output_type": "stream",
     "text": [
      "Environment \t\t State Space \t Action Space\n",
      "----------- \t\t ----------- \t ------------\n",
      "CartPole-v0 \t\t Box(4,) \t Discrete(2)\n",
      "Acrobot-v1 \t\t Box(6,) \t Discrete(3)\n",
      "MountainCar-v0 \t\t Box(2,) \t Discrete(3)\n"
     ]
    }
   ],
   "source": [
    "environments = [\"CartPole-v0\", \"Acrobot-v1\", \"MountainCar-v0\"]\n",
    "envs = {}\n",
    "\n",
    "print('Environment \\t\\t State Space \\t Action Space')\n",
    "print('----------- \\t\\t ----------- \\t ------------')\n",
    "for environment in environments:\n",
    "    env = gym.envs.make(environment)\n",
    "    envs[environment] = env\n",
    "    print('{} \\t\\t {} \\t {}'.format(\n",
    "        environment,\n",
    "        env.observation_space,\n",
    "        env.action_space)\n",
    "    )"
   ]
  },
  {
   "cell_type": "markdown",
   "metadata": {},
   "source": [
    "## Experience Replay"
   ]
  },
  {
   "cell_type": "markdown",
   "metadata": {},
   "source": [
    "### ReplayMemory"
   ]
  },
  {
   "cell_type": "code",
   "execution_count": 8,
   "metadata": {
    "collapsed": true
   },
   "outputs": [],
   "source": [
    "class ReplayMemory:\n",
    "    def __init__(self, capacity):\n",
    "        self.capacity = capacity\n",
    "        self.memory = []\n",
    "\n",
    "    def push(self, transition, error):\n",
    "        self.memory.append((transition, error))\n",
    "\n",
    "    def sample(self, batch_size):\n",
    "        raise NotImplementedError('Function sample is not defined')\n",
    "\n",
    "    def __len__(self):\n",
    "        return len(self.memory)"
   ]
  },
  {
   "cell_type": "markdown",
   "metadata": {},
   "source": [
    "### No Experience Replay and Uniform Experience Replay"
   ]
  },
  {
   "cell_type": "code",
   "execution_count": 9,
   "metadata": {},
   "outputs": [],
   "source": [
    "class NoneMemory(ReplayMemory):\n",
    "    def sample(self, batch_size):\n",
    "        #Samples a tuple of tuple of transitions and error - ((s, a, r, s', done), TDerror)\n",
    "        return self.memory[-batch_size:], None, None # extra Nones to have the same behaviour as PER\n",
    "\n",
    "\n",
    "class UniformMemory(ReplayMemory):\n",
    "    def sample(self, batch_size):\n",
    "        #Samples a tuple of tuple of transitions and error - ((s, a, r, s', done), TDerror)\n",
    "        index = np.random.choice(len(self), batch_size, replace=False)\n",
    "        return [self.memory[i] for i in index], None, None # extra Nones to have the same behaviour as PER\n",
    "\n",
    "\n",
    "class CombinedMemory(ReplayMemory):\n",
    "    def sample(self, batch_size):\n",
    "        #Samples a tuple of tuple of transitions and error - ((s, a, r, s', done), TDerror)\n",
    "        index = np.random.choice(len(self) - 1, batch_size - 1, replace=False)\n",
    "        samples = [self.memory[i] for i in index]\n",
    "        samples.append(self.memory[-1])\n",
    "        return samples, None, None # extra Nones to have the same behaviour as PER"
   ]
  },
  {
   "cell_type": "markdown",
   "metadata": {},
   "source": [
    "### Prioritized Experience Replay"
   ]
  },
  {
   "cell_type": "code",
   "execution_count": 10,
   "metadata": {
    "collapsed": true
   },
   "outputs": [],
   "source": [
    "# Source: https://github.com/rlcode/per\n",
    "\n",
    "# SumTree\n",
    "# a binary tree data structure where the parent’s value is the sum of its children\n",
    "class SumTree:\n",
    "    write = 0\n",
    "\n",
    "    def __init__(self, capacity):\n",
    "        self.capacity = capacity\n",
    "        self.tree = np.zeros(2 * capacity - 1)\n",
    "        self.data = np.zeros(capacity, dtype = object)\n",
    "        self.n_entries = 0\n",
    "\n",
    "    # update to the root node\n",
    "    def _propagate(self, idx, change):\n",
    "        parent = (idx - 1) // 2\n",
    "\n",
    "        self.tree[parent] += change\n",
    "\n",
    "        if parent != 0:\n",
    "            self._propagate(parent, change)\n",
    "\n",
    "    # find sample on leaf node\n",
    "    def _retrieve(self, idx, s):\n",
    "        left = 2 * idx + 1\n",
    "        right = left + 1\n",
    "\n",
    "        if left >= len(self.tree):\n",
    "            return idx\n",
    "\n",
    "        if s <= self.tree[left]:\n",
    "            return self._retrieve(left, s)\n",
    "        else:\n",
    "            return self._retrieve(right, s - self.tree[left])\n",
    "\n",
    "    def total(self):\n",
    "        return self.tree[0]\n",
    "\n",
    "    # store priority and sample\n",
    "    def add(self, p, data):\n",
    "        idx = self.write + self.capacity - 1\n",
    "\n",
    "        self.data[self.write] = data\n",
    "        self.update(idx, p)\n",
    "\n",
    "        self.write += 1\n",
    "        if self.write >= self.capacity:\n",
    "            self.write = 0\n",
    "\n",
    "        if self.n_entries < self.capacity:\n",
    "            self.n_entries += 1\n",
    "\n",
    "    # update priority\n",
    "    def update(self, idx, p):\n",
    "        change = p - self.tree[idx]\n",
    "\n",
    "        self.tree[idx] = p\n",
    "        self._propagate(idx, change)\n",
    "\n",
    "    # get priority and sample\n",
    "    def get(self, s):\n",
    "        idx = self._retrieve(0, s)\n",
    "        dataIdx = idx - self.capacity + 1\n",
    "\n",
    "        return (idx, self.tree[idx], self.data[dataIdx])\n",
    "\n",
    "\n",
    "class PrioritizedMemory:  # stored as ( s, a, r, s_ ) in SumTree\n",
    "    e = 0.01\n",
    "    a = 0.6\n",
    "    beta = 0.4\n",
    "    beta_increment_per_sampling = 0.001\n",
    "\n",
    "    def __init__(self, capacity):\n",
    "        self.tree = SumTree(capacity)\n",
    "        self.capacity = capacity\n",
    "\n",
    "    def _get_priority(self, error):\n",
    "        return (error + self.e) ** self.a\n",
    "    \n",
    "    def __len__(self):\n",
    "        return self.tree.n_entries\n",
    "\n",
    "    def push(self, sample, error):\n",
    "        p = self._get_priority(error)\n",
    "        self.tree.add(p, (sample, error))\n",
    "\n",
    "    def sample(self, n):\n",
    "        batch = []\n",
    "        idxs = []\n",
    "        segment = self.tree.total() / n\n",
    "        priorities = []\n",
    "\n",
    "        self.beta = np.min([1., self.beta + self.beta_increment_per_sampling])\n",
    "\n",
    "        for i in range(n):\n",
    "            a = segment * i\n",
    "            b = segment * (i + 1)\n",
    "\n",
    "            s = random.uniform(a, b)\n",
    "            (idx, p, data) = self.tree.get(s)\n",
    "            priorities.append(p)\n",
    "            batch.append(data)\n",
    "            idxs.append(idx)\n",
    "\n",
    "        sampling_probabilities = priorities / self.tree.total()\n",
    "        is_weight = np.power(self.tree.n_entries * sampling_probabilities, -self.beta)\n",
    "        is_weight /= is_weight.max()\n",
    "        \n",
    "        return batch, idxs, is_weight\n",
    "\n",
    "    def update(self, idx, error):\n",
    "        p = self._get_priority(error)\n",
    "        self.tree.update(idx, p)"
   ]
  },
  {
   "cell_type": "markdown",
   "metadata": {},
   "source": [
    "Test if the memory module works as expected,"
   ]
  },
  {
   "cell_type": "code",
   "execution_count": 11,
   "metadata": {},
   "outputs": [
    {
     "name": "stdout",
     "output_type": "stream",
     "text": [
      "((array([-0.50498557,  0.        ]), 0, -1.0, array([-0.5061251 , -0.00113953]), False), 0)\n"
     ]
    }
   ],
   "source": [
    "capacity = 10\n",
    "memory = NoneMemory(capacity)\n",
    "\n",
    "# Sample a transition\n",
    "s = env.reset()\n",
    "a = env.action_space.sample()\n",
    "s_next, r, done, _ = env.step(a)\n",
    "\n",
    "# Push a transition\n",
    "memory.push((s, a, r, s_next, done), 0)\n",
    "\n",
    "# Sample a batch size of 1\n",
    "print(memory.sample(1)[0][0])"
   ]
  },
  {
   "cell_type": "markdown",
   "metadata": {},
   "source": [
    "Test if the train module works as expected,"
   ]
  },
  {
   "cell_type": "code",
   "execution_count": 12,
   "metadata": {},
   "outputs": [
    {
     "name": "stdout",
     "output_type": "stream",
     "text": [
      "(0.851107120513916, (0.0, 0.0, 0, 0.0), 2016.0)\n"
     ]
    },
    {
     "name": "stderr",
     "output_type": "stream",
     "text": [
      "/anaconda/envs/ml1labs/lib/python3.6/site-packages/ipykernel_launcher.py:37: UserWarning: To copy construct from a tensor, it is recommended to use sourceTensor.clone().detach() or sourceTensor.clone().detach().requires_grad_(True), rather than torch.tensor(sourceTensor).\n"
     ]
    }
   ],
   "source": [
    "# settings\n",
    "batch_size = 64\n",
    "discount_factor = 0.8\n",
    "learn_rate = 1e-3\n",
    "input_dim = 2\n",
    "output_dim = 2\n",
    "\n",
    "model = QNetwork(input_dim, num_hidden, output_dim)\n",
    "optimizer = optim.Adam(model.parameters(), learn_rate)\n",
    "\n",
    "# setup memory\n",
    "transition = memory.sample(1)[0][0][0]\n",
    "memory = UniformMemory(10 * batch_size)\n",
    "\n",
    "# fill with dummy data\n",
    "for i in range(batch_size):\n",
    "    memory.push(transition, 0)\n",
    "\n",
    "# must prints loss, meanTDerror, (medianTDerror, maxTDerror, stdTDerror), Correlation count\n",
    "print(train(memory, model, model, batch_size, output_dim, optimizer, discount_factor))"
   ]
  },
  {
   "cell_type": "markdown",
   "metadata": {},
   "source": [
    "# Run Experiments"
   ]
  },
  {
   "cell_type": "code",
   "execution_count": 13,
   "metadata": {
    "collapsed": true
   },
   "outputs": [],
   "source": [
    "def run(er_type='uniform', environment=\"CartPole-v0\"):\n",
    "    # load environment\n",
    "    env = envs[environment]\n",
    "    state_size = env.observation_space.shape[0]\n",
    "    action_size = env.action_space.n\n",
    "    num_hidden = 128\n",
    "\n",
    "    # init networks\n",
    "    model = QNetwork(state_size, num_hidden, action_size)\n",
    "    target_model = QNetwork(state_size, num_hidden, action_size)\n",
    "\n",
    "    copy_model(model, target_model)\n",
    "\n",
    "    # run settings\n",
    "    batch_size = 64\n",
    "    discount_factor = 0.8\n",
    "    learn_rate = 1e-3\n",
    "    memory_size = 10000\n",
    "    num_episodes = 100\n",
    "    \n",
    "    er_types = {\n",
    "        'none': NoneMemory,\n",
    "        'uniform': UniformMemory,\n",
    "        'prioritized': PrioritizedMemory,\n",
    "        'combined': CombinedMemory\n",
    "    }\n",
    "\n",
    "    memory = er_types[er_type](memory_size)\n",
    "    seed = 42  # This is not randomly chosen\n",
    "\n",
    "    # We will seed the algorithm (before initializing QNetwork!) for reproducability\n",
    "    random.seed(seed)\n",
    "    torch.manual_seed(seed)\n",
    "    env.seed(seed)\n",
    "\n",
    "    #Return a dictionary of the relevant statistics per episode\n",
    "    metrics = run_episodes(model, target_model, memory, env, num_episodes, batch_size, discount_factor, learn_rate)\n",
    "    \n",
    "    return metrics"
   ]
  },
  {
   "cell_type": "markdown",
   "metadata": {},
   "source": [
    "## Results"
   ]
  },
  {
   "cell_type": "code",
   "execution_count": 14,
   "metadata": {
    "scrolled": false
   },
   "outputs": [
    {
     "name": "stdout",
     "output_type": "stream",
     "text": [
      "Running none in CartPole-v0\n"
     ]
    },
    {
     "name": "stderr",
     "output_type": "stream",
     "text": [
      "  0%|          | 0/100 [00:00<?, ?it/s]/anaconda/envs/ml1labs/lib/python3.6/site-packages/ipykernel_launcher.py:37: UserWarning: To copy construct from a tensor, it is recommended to use sourceTensor.clone().detach() or sourceTensor.clone().detach().requires_grad_(True), rather than torch.tensor(sourceTensor).\n",
      "100%|██████████| 100/100 [00:02<00:00, 44.49it/s]\n",
      "  0%|          | 0/100 [00:00<?, ?it/s]"
     ]
    },
    {
     "name": "stdout",
     "output_type": "stream",
     "text": [
      "Running uniform in CartPole-v0\n"
     ]
    },
    {
     "name": "stderr",
     "output_type": "stream",
     "text": [
      "100%|██████████| 100/100 [00:11<00:00,  8.45it/s]\n",
      "  0%|          | 0/100 [00:00<?, ?it/s]"
     ]
    },
    {
     "name": "stdout",
     "output_type": "stream",
     "text": [
      "Running prioritized in CartPole-v0\n"
     ]
    },
    {
     "name": "stderr",
     "output_type": "stream",
     "text": [
      "100%|██████████| 100/100 [00:32<00:00,  1.47it/s]\n",
      "  0%|          | 0/100 [00:00<?, ?it/s]"
     ]
    },
    {
     "name": "stdout",
     "output_type": "stream",
     "text": [
      "Running combined in CartPole-v0\n"
     ]
    },
    {
     "name": "stderr",
     "output_type": "stream",
     "text": [
      "100%|██████████| 100/100 [00:17<00:00,  5.69it/s]\n"
     ]
    }
   ],
   "source": [
    "exp_replays = ['none', 'uniform', 'prioritized', 'combined']\n",
    "environments = ['CartPole-v0', 'Acrobot-v1', 'MountainCar-v0']\n",
    "environments = ['CartPole-v0']\n",
    "\n",
    "# And see the results\n",
    "def smooth(x, N):\n",
    "    cumsum = np.cumsum(np.insert(x, 0, 0)) \n",
    "    return (cumsum[N:] - cumsum[:-N]) / float(N)\n",
    "\n",
    "\n",
    "def grid_search():\n",
    "    results = defaultdict(list)\n",
    "    #runs_values = runs.keys()\n",
    "    for environment in environments:\n",
    "        for er_type in exp_replays:\n",
    "            print('Running {} in {}'.format(er_type, environment))\n",
    "            results[environment].append(smooth(run(er_type, environment)['durations'], 10))\n",
    "    return results\n",
    "\n",
    "\n",
    "def test_run(environment=\"CartPole-v0\"):\n",
    "    for er_type in exp_replays:\n",
    "        plt.plot(smooth(run(er_type, environment), 10))\n",
    "    plt.title('Episode durations per episode')\n",
    "    plt.legend(exp_replays)\n",
    "    \n",
    "# use results and then next cell for plotting - no need to get results multiple times\n",
    "results = grid_search()\n",
    "# test_run()\n",
    "# run('uniform', \"CartPole-v0\")"
   ]
  },
  {
   "cell_type": "code",
   "execution_count": 15,
   "metadata": {
    "scrolled": false
   },
   "outputs": [
    {
     "data": {
      "image/png": "[encoded data removed]",
      "text/plain": [
       "<matplotlib.figure.Figure at 0x10c0bb128>"
      ]
     },
     "metadata": {},
     "output_type": "display_data"
    },
    {
     "data": {
      "image/png": "[encoded data removed]",
      "text/plain": [
       "<matplotlib.figure.Figure at 0x11b00ea58>"
      ]
     },
     "metadata": {},
     "output_type": "display_data"
    },
    {
     "name": "stdout",
     "output_type": "stream",
     "text": [
      "[array([  3.4,   4.7,   5.8,   6.7,   7.7,   8.8,  10.9,  11.5,  11.6,\n",
      "        11.4,  11.5,  11.2,  11.1,  11.2,  11.1,  10.9,   9.6,   9.5,\n",
      "         9.3,   9.3,   9.4,   9.5,   9.4,   9.4,   9.4,   9.5,   9.6,\n",
      "         9.6,   9.5,   9.5,   9.5,   9.4,   9.3,   9.2,   9.2,   9.1,\n",
      "         9.1,   9. ,   9.1,   9.1,   9.1,   9.1,   9.3,   9.2,   9.3,\n",
      "         9.2,   9.3,   9.5,   9.4,   9.4,   9.3,   9.3,   9.2,   9.4,\n",
      "         9.3,   9.6,   9.5,   9.6,   9.6,   9.4,   9.4,   9.4,   9.4,\n",
      "         9.3,   9.3,   9.1,   9. ,   8.9,   9.1,   9.2,   9.4,   9.4,\n",
      "         9.5,   9.6,   9.6,   9.8,  10. ,   9.9,   9.8,   9.9,   9.7,\n",
      "         9.7,   9.8,   9.7,   9.8,   9.6,   9.6,   9.7,   9.6,   9.5,   9.6]), array([   3.3,    4.3,    5.6,    6.6,    7.4,    8.7,    9.7,   10.8,\n",
      "         10.9,   10.9,   11. ,   11.3,   11.2,   11.3,   11.4,   11. ,\n",
      "         10.9,   10.3,   10.2,   10.2,   10.2,   10.2,   10.2,   10.3,\n",
      "         10.3,   10.7,   10.8,   10.9,   10.9,   10.9,   10.9,   10.9,\n",
      "         10.8,   10.6,   11.2,   10.8,   11.5,   11.5,   16.8,   17.1,\n",
      "         17.6,   19.2,   22.9,   27.1,   28.5,   32.3,   33.7,   39. ,\n",
      "         37. ,   40.5,   43.7,   45.7,   44.5,   43.5,   44.6,   43.3,\n",
      "         54.5,   53.4,   54.5,   55.7,   57.8,   59.8,   69.5,   75. ,\n",
      "         81.6,   85. ,   84.6,   87.3,   88.9,   92.4,   92.2,   91.7,\n",
      "         85.5,   82.9,   92.3,   92.8,   96.2,  103.2,  109.9,  111.5,\n",
      "        118. ,  125.4,  126.8,  136.1,  136.1,  148.6,  145.2,  144.2,\n",
      "        150.5,  159.4,  162.2]), array([   3.6,    5. ,    5.9,    7. ,    7.9,    9.4,   10.5,   10.8,\n",
      "         11.5,   11.8,   12. ,   11.9,   12. ,   11.9,   12. ,   11.5,\n",
      "         11.2,   11.6,   11.6,   12.2,   12.6,   12.8,   13. ,   13.1,\n",
      "         14.5,   15.3,   15.7,   16.7,   16. ,   19.3,   21. ,   21.9,\n",
      "         21.7,   23.4,   22. ,   21.3,   22.8,   29.8,   33. ,   33.3,\n",
      "         36. ,   43.1,   50.7,   52.7,   59.4,   61.9,   69.9,   65.8,\n",
      "         64.8,   67.1,   67.4,   64.3,   61.8,   77. ,   79.9,   92.9,\n",
      "         99.4,  114.1,  130.9,  138.4,  152.3,  165.9,  179.8,  179.8,\n",
      "        189.2,  192.4,  195.2,  195.2,  195.2,  199.8,  199.8,  199.8,\n",
      "        199.6,  199.6,  198.9,  199.1,  198. ,  198. ,  197.2,  197.2,\n",
      "        197.1,  197.1,  197.3,  196.9,  196.5,  196.5,  197.5,  197.2,\n",
      "        197.2,  197.2,  197.3]), array([   3.5,    4.5,    5.4,    6.8,    7.7,    8.8,    9.8,   10. ,\n",
      "         10. ,   10.1,   10.2,   10.2,   10.3,    9.9,    9.9,    9.8,\n",
      "          9.7,    9.7,    9.7,    9.6,    9.7,    9.8,    9.7,    9.8,\n",
      "          9.8,   10. ,   10.4,   12.1,   13. ,   15.6,   16.6,   17.5,\n",
      "         17.8,   20.7,   21.7,   21.7,   22. ,   21.8,   21.3,   23.4,\n",
      "         22.8,   22.3,   23.2,   27.1,   28.1,   30.7,   32.7,   34.7,\n",
      "         38.7,   35.9,   41.4,   44.6,   46.6,   42.5,   51.4,   52.7,\n",
      "         56.9,   57.4,   63.6,   72.5,   85.4,   92.8,  108.7,  124.9,\n",
      "        133.1,  148. ,  156.1,  171.2,  179.6,  187.4,  187.6,  195.5,\n",
      "        195.5,  195.5,  193.1,  193.1,  197.2,  197.2,  197.2,  197.6,\n",
      "        197.6,  197.6,  197.6,  197.6,  200. ,  199.8,  199.8,  199.8,\n",
      "        199.8,  199.8,  199.8])]\n"
     ]
    }
   ],
   "source": [
    "def grid_graphs():\n",
    "    #Compare per environment\n",
    "    for env in environments:\n",
    "        plt.subplot(len(environments),1, environments.index(env)+1)\n",
    "        for i in range(len(exp_replays)):\n",
    "            plt.plot(results[env][i])\n",
    "        plt.title('Episode durations per episode in {} environment'.format(env))\n",
    "        plt.legend(exp_replays)\n",
    "    # plt.subplots_adjust(top=1, bottom=-1.5)\n",
    "    plt.show()\n",
    "    \n",
    "    #Compare per ER\n",
    "    for i in range(len(exp_replays)):\n",
    "        plt.subplot(len(exp_replays),1, i+1)\n",
    "        for env in environments:\n",
    "            plt.plot(results[env][i])\n",
    "        plt.title('Episode durations per episode with {} experience replay'.format(exp_replays[i]))\n",
    "        plt.legend(environments)\n",
    "    plt.subplots_adjust(top=1, bottom=-1.5)\n",
    "    plt.show()\n",
    "    \n",
    "grid_graphs()\n",
    "print(results[\"CartPole-v0\"])"
   ]
  }
 ],
 "metadata": {
  "kernelspec": {
   "display_name": "Python 3",
   "language": "python",
   "name": "python3"
  },
  "language_info": {
   "codemirror_mode": {
    "name": "ipython",
    "version": 3
   },
   "file_extension": ".py",
   "mimetype": "text/x-python",
   "name": "python",
   "nbconvert_exporter": "python",
   "pygments_lexer": "ipython3",
   "version": "3.6.2"
  }
 },
 "nbformat": 4,
 "nbformat_minor": 2
}
